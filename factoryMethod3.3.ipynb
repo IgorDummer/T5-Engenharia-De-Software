{
 "cells": [
  {
   "cell_type": "markdown",
   "metadata": {},
   "source": [
    "# Factory Method, exercício 3.3"
   ]
  },
  {
   "cell_type": "markdown",
   "metadata": {},
   "source": [
    "Escreva um programa que conte até 10 e envie os números para uma ferramenta de log. Esta ferramenta de\n",
    "log deve ser construída por uma fábrica. Utilize Factory Method para permitir a escolha entre dois tipos de\n",
    "log: em arquivo (log.txt) ou diretamente no console. A escolha deve ser por um parâmetro passado ao\n",
    "programa (“arquivo” ou “console”)."
   ]
  },
  {
   "cell_type": "markdown",
   "metadata": {},
   "source": [
    "## Solução"
   ]
  },
  {
   "cell_type": "markdown",
   "metadata": {},
   "source": [
    "Iremos importar random para randomizar a escolha da ferramenta de log, ou um arquivo log.txt ou diretamente no console."
   ]
  },
  {
   "cell_type": "code",
   "execution_count": 1,
   "metadata": {},
   "outputs": [],
   "source": [
    "import sys\n",
    "import random"
   ]
  },
  {
   "cell_type": "markdown",
   "metadata": {},
   "source": [
    "Teremos duas classes responsáveis por essa escolha da ferramenta de log. ArquivoLog exibe no arquivo log.txt e ConsoleLog exibe no console."
   ]
  },
  {
   "cell_type": "code",
   "execution_count": 2,
   "metadata": {},
   "outputs": [],
   "source": [
    "class ArquivoLog:\n",
    "    def exibeLog():\n",
    "        with open('log.txt', 'w') as f:\n",
    "            for i in range(10):\n",
    "                f.write(str(i+1) + '\\n')\n",
    "\n",
    "\n",
    "class ConsoleLog:\n",
    "    def exibeLog():\n",
    "        for i in range(10):\n",
    "            print(i+1)"
   ]
  },
  {
   "cell_type": "markdown",
   "metadata": {},
   "source": [
    "Através da classe Factory que iremos criar os objetos sem expor a lógica de criação de cada um para o cliente. Assim o cliente irá utilizar uma mesma interface para a criação de um novo tipo de objeto."
   ]
  },
  {
   "cell_type": "code",
   "execution_count": 3,
   "metadata": {},
   "outputs": [],
   "source": [
    "def Factory(log):\n",
    "    \"\"\"Factory Method\"\"\"\n",
    "    types = {\n",
    "        \"arquivo\": ArquivoLog,\n",
    "        \"console\": ConsoleLog,\n",
    "    }\n",
    "    return types[log]"
   ]
  },
  {
   "cell_type": "markdown",
   "metadata": {},
   "source": [
    "Função que randomiza a escolha do tipo de ferramenta de log. Caso o programa receba passagem de argumento, ele entrará no if e seguirá com a escolha digitada no termial, caso não passe nenhum argumento o programa irá escolher de maneira randomica entre a ferramenta de log no arquivo ou no console."
   ]
  },
  {
   "cell_type": "code",
   "execution_count": 4,
   "metadata": {},
   "outputs": [],
   "source": [
    "def retornaArgumento():\n",
    "    types = ['arquivo', 'console']\n",
    "    #if len(sys.argv) > 1: #O Jupiter está passando \"-f\" como parametro, por isso optamos por deixar randomico\n",
    "        #return sys.argv[1]\n",
    "    #else:\n",
    "    return str(random.choice(types))"
   ]
  },
  {
   "cell_type": "markdown",
   "metadata": {},
   "source": [
    "Observe que a chamada é feita através da Factory, e a interface utilizada será a mesma para ambos os tipos de ferramenta de log."
   ]
  },
  {
   "cell_type": "code",
   "execution_count": 5,
   "metadata": {},
   "outputs": [],
   "source": [
    "if __name__ == \"__main__\":\n",
    "    log = Factory(retornaArgumento())\n",
    "    log.exibeLog()"
   ]
  }
 ],
 "metadata": {
  "kernelspec": {
   "display_name": "Python 3 (ipykernel)",
   "language": "python",
   "name": "python3"
  },
  "language_info": {
   "codemirror_mode": {
    "name": "ipython",
    "version": 3
   },
   "file_extension": ".py",
   "mimetype": "text/x-python",
   "name": "python",
   "nbconvert_exporter": "python",
   "pygments_lexer": "ipython3",
   "version": "3.8.10"
  }
 },
 "nbformat": 4,
 "nbformat_minor": 2
}
