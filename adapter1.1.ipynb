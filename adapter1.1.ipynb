{
 "cells": [
  {
   "cell_type": "code",
   "execution_count": 53,
   "metadata": {},
   "outputs": [],
   "source": [
    "class MatrixToMapAdapter:\n",
    "    def __init__(self, matrix):\n",
    "        self.map = {}\n",
    "        for i in range(len(matrix[0])):\n",
    "            self.map[matrix[0][i]] = matrix[1][i]\n",
    "\n",
    "    def __repr__(self):\n",
    "        return self.map.__repr__()"
   ]
  },
  {
   "cell_type": "code",
   "execution_count": 54,
   "metadata": {},
   "outputs": [
    {
     "name": "stdout",
     "output_type": "stream",
     "text": [
      "[['Deixa eu', 'pro meu corpo ficar'], ['dançar', 'odara']]\n",
      "{'Deixa eu': 'dançar', 'pro meu corpo ficar': 'odara'}\n"
     ]
    }
   ],
   "source": [
    "matrix = [\n",
    "    ['Deixa eu', 'pro meu corpo ficar'],\n",
    "    ['dançar', 'odara'],\n",
    "]\n",
    "\n",
    "print(matrix)\n",
    "print(MatrixToMapAdapter(matrix))"
   ]
  }
 ],
 "metadata": {
  "kernelspec": {
   "display_name": "Python 3",
   "language": "python",
   "name": "python3"
  },
  "language_info": {
   "codemirror_mode": {
    "name": "ipython",
    "version": 3
   },
   "file_extension": ".py",
   "mimetype": "text/x-python",
   "name": "python",
   "nbconvert_exporter": "python",
   "pygments_lexer": "ipython3",
   "version": "3.8.10"
  },
  "orig_nbformat": 4,
  "vscode": {
   "interpreter": {
    "hash": "916dbcbb3f70747c44a77c7bcd40155683ae19c65e1c03b4aa3499c5328201f1"
   }
  }
 },
 "nbformat": 4,
 "nbformat_minor": 2
}
