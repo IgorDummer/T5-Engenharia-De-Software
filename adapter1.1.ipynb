{
 "cells": [
  {
   "cell_type": "markdown",
   "metadata": {},
   "source": [
    "# Adapter , exercício 1.1\n",
    "\n",
    "A classe java.util.Map da API de coleções de Java permite que sejam armazenados pares de objetos (chave e valor) em uma de suas implementações (as mais conhecidas são HashMap e TreeMap). No entanto, estas classes não possuem um construtor que receba como parâmetro uma matriz de duas linhas e que monte o mapa usando a primeira linha como chave e a segunda como coluna. Crie um adaptador (dica: use Adapter de classe) que tenha este construtor."
   ]
  },
  {
   "cell_type": "markdown",
   "metadata": {},
   "source": [
    "## Solução:\n",
    "\n",
    "Para resolver este exercício, criamos uma classe que seu construtor recebe uma matriz de 2 linhas, e retorna um dicionário ou objeto com a relação chave e valor, que em cada coluna a primeira linha é a chave e a segunda linha será o valor.\n",
    "\n",
    "Essa classe será utilizada como `Adapter` para adaptar a interface de um dado que vem numa estrutura não convencional para o problema do cliente, e pra isso temos que inserir uma entidade intermediária para podermos usarmos esse dado no nosso programa"
   ]
  },
  {
   "cell_type": "code",
   "execution_count": 11,
   "metadata": {},
   "outputs": [],
   "source": [
    "class MatrixToMapAdapter:\n",
    "    def __init__(self, matrix):\n",
    "        self.map = {}\n",
    "        keys = matrix[0]\n",
    "        values = matrix[1]\n",
    "        for i in range(len(keys)):\n",
    "            self.map[keys[i]] = values[i]\n",
    "\n",
    "    def __repr__(self):\n",
    "        return self.map.__repr__()"
   ]
  },
  {
   "cell_type": "markdown",
   "metadata": {},
   "source": [
    "E abaixo um exemplo do cliente utilizando o Adapter em uma dada matriz"
   ]
  },
  {
   "cell_type": "code",
   "execution_count": 12,
   "metadata": {},
   "outputs": [
    {
     "name": "stdout",
     "output_type": "stream",
     "text": [
      "[['Deixa eu', 'pro meu corpo ficar'], ['dançar', 'odara']]\n",
      "{'Deixa eu': 'dançar', 'pro meu corpo ficar': 'odara'}\n"
     ]
    }
   ],
   "source": [
    "matrix = [\n",
    "    ['Deixa eu', 'pro meu corpo ficar'],\n",
    "    ['dançar', 'odara'],\n",
    "]\n",
    "\n",
    "print(matrix)\n",
    "print(MatrixToMapAdapter(matrix))"
   ]
  }
 ],
 "metadata": {
  "kernelspec": {
   "display_name": "Python 3",
   "language": "python",
   "name": "python3"
  },
  "language_info": {
   "codemirror_mode": {
    "name": "ipython",
    "version": 3
   },
   "file_extension": ".py",
   "mimetype": "text/x-python",
   "name": "python",
   "nbconvert_exporter": "python",
   "pygments_lexer": "ipython3",
   "version": "3.8.10"
  },
  "orig_nbformat": 4,
  "vscode": {
   "interpreter": {
    "hash": "916dbcbb3f70747c44a77c7bcd40155683ae19c65e1c03b4aa3499c5328201f1"
   }
  }
 },
 "nbformat": 4,
 "nbformat_minor": 2
}
