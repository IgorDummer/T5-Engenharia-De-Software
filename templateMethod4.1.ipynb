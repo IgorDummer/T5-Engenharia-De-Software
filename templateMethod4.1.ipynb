{
  "metadata": {
    "kernelspec": {
      "name": "python",
      "display_name": "Python (Pyodide)",
      "language": "python"
    },
    "language_info": {
      "codemirror_mode": {
        "name": "python",
        "version": 3
      },
      "file_extension": ".py",
      "mimetype": "text/x-python",
      "name": "python",
      "nbconvert_exporter": "python",
      "pygments_lexer": "ipython3",
      "version": "3.8"
    }
  },
  "nbformat_minor": 5,
  "nbformat": 4,
  "cells": [
    {
      "cell_type": "markdown",
      "source": "# Template Method 4.1\n\nO Template Method é um padrão de projeto comportamental que define o esqueleto de um algoritmo na superclasse mas deixa as subclasses sobrescreverem etapas específicas do algoritmo sem modificar sua estrutura.",
      "metadata": {},
      "id": "a35eeb9f-df70-4ab1-a243-2d2025888eb0"
    },
    {
      "cell_type": "code",
      "source": "Como pede o exercício, recebemos uma string do console no método init:",
      "metadata": {},
      "execution_count": null,
      "outputs": [],
      "id": "902d1743-7377-4d24-a5b0-26c48b16bd44"
    },
    {
      "cell_type": "code",
      "source": "Agora implementa-se uma classe abstrata, ela recebe a string de entrada, que seria o esqueleto (template) para realizar as transformações na string.\nNela é implementada um método transforma, que é o MÉTODO PADRÃO, que em cada subclasse realizará uma transformação diferente na string.",
      "metadata": {},
      "execution_count": null,
      "outputs": [],
      "id": "e1b5ba72-e3b3-4914-88fe-2ca719142630"
    },
    {
      "cell_type": "code",
      "source": "from abc import ABC, abstractmethod\n\nclass AbstractClass(ABC):\n\n    def template(self) -> None:\n        self.transforma()\n      \n    def __init__(self) -> None: #funcao basica\n        belafrase = input(\"Enter a string: \")\n        self.belafrase=belafrase\n      \n    @abstractmethod\n    def transforma(self) -> None:\n        pass\n    \nclass MaiusculaString(AbstractClass):\n    def transforma(self) -> None:\n        self.belafrase = self.belafrase.upper()\n        print(self.belafrase)\n\nclass MinusculaString(AbstractClass):\n    def transforma(self) -> None:\n        self.belafrase = self.belafrase.lower()\n        print(self.belafrase)\n\nclass DuplicadaString(AbstractClass):   \n    def transforma(self) -> None:\n        self.belafrase = (self.belafrase * 2)\n        print(self.belafrase)\n\nclass InvertidaString(AbstractClass):\n    def transforma(self) -> None:\n        self.belafrase = self.belafrase[::-1]\n        print(self.belafrase)\n    \n\ndef cliente(abstract_class: AbstractClass) -> None:\n    abstract_class.template()",
      "metadata": {
        "trusted": true
      },
      "execution_count": 99,
      "outputs": [],
      "id": "2e0e67ce-ec76-439d-b305-75e67b910110"
    },
    {
      "cell_type": "code",
      "source": "No final, é implementado o método cliente, que chama o template. No template, está declarado o método abstrato que faz uma transformação diferente na string para cada subclasse acima.\nEm seguida, chamamos o cliente usando o template para cada subclasse.",
      "metadata": {},
      "execution_count": null,
      "outputs": [],
      "id": "7bdb2f3f-6bcc-4772-8c32-03cf490e971a"
    },
    {
      "cell_type": "code",
      "source": "cliente(MaiusculaString(var))\ncliente(MinusculaString(var))\ncliente(DuplicadaString(var))\ncliente(InvertidaString(var))",
      "metadata": {
        "trusted": true
      },
      "execution_count": 100,
      "outputs": [
        {
          "name": "stdout",
          "text": "TESTE: \nteste: \nteste: teste: \n :etset\n",
          "output_type": "stream"
        }
      ],
      "id": "cdf6a259-8cb1-4a7f-ba21-4d9c7c231a08"
    }
  ]
}