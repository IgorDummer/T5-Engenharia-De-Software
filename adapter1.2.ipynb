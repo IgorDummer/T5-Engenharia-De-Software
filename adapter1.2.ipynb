{
 "cells": [
  {
   "cell_type": "code",
   "execution_count": 20,
   "metadata": {},
   "outputs": [],
   "source": [
    "class Cliente:\n",
    "    somador = SomadorEsperado()\n",
    "\n",
    "    def __init__(self, somador):\n",
    "        self.somador = somador\n",
    "\n",
    "    def executar(self):\n",
    "        vetor = [1, 2, 3, 4, 5, 6, 7, 8, 9, 10]\n",
    "        soma = self.somador.somaVetor(vetor)\n",
    "        print(f\"Resultado: {soma}\")"
   ]
  },
  {
   "cell_type": "code",
   "execution_count": 21,
   "metadata": {},
   "outputs": [],
   "source": [
    "class SomadorEsperado:\n",
    "    def somaVetor(self, vetor):\n",
    "        pass"
   ]
  },
  {
   "cell_type": "code",
   "execution_count": 22,
   "metadata": {},
   "outputs": [],
   "source": [
    "class SomadorExistente:\n",
    "    def somaLista(self, lista) -> int:\n",
    "        resultado = 0\n",
    "        for i in lista:\n",
    "            resultado += i\n",
    "        return resultado"
   ]
  },
  {
   "cell_type": "code",
   "execution_count": 23,
   "metadata": {},
   "outputs": [],
   "source": [
    "class Adapter:\n",
    "    def __init__(self, somador):\n",
    "        self.somador = somador\n",
    "\n",
    "    def somaVetor(self, vetor):\n",
    "        lista = []\n",
    "        for i in vetor:\n",
    "            lista.append(i)\n",
    "\n",
    "        return self.somador.somaLista(lista)"
   ]
  },
  {
   "cell_type": "code",
   "execution_count": 24,
   "metadata": {},
   "outputs": [
    {
     "name": "stdout",
     "output_type": "stream",
     "text": [
      "Resultado: 55\n"
     ]
    }
   ],
   "source": [
    "Cliente(Adapter(SomadorExistente())).executar()"
   ]
  }
 ],
 "metadata": {
  "kernelspec": {
   "display_name": "Python 3",
   "language": "python",
   "name": "python3"
  },
  "language_info": {
   "codemirror_mode": {
    "name": "ipython",
    "version": 3
   },
   "file_extension": ".py",
   "mimetype": "text/x-python",
   "name": "python",
   "nbconvert_exporter": "python",
   "pygments_lexer": "ipython3",
   "version": "3.8.10"
  },
  "orig_nbformat": 4,
  "vscode": {
   "interpreter": {
    "hash": "916dbcbb3f70747c44a77c7bcd40155683ae19c65e1c03b4aa3499c5328201f1"
   }
  }
 },
 "nbformat": 4,
 "nbformat_minor": 2
}
