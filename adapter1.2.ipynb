{
 "cells": [
  {
   "cell_type": "markdown",
   "metadata": {},
   "source": [
    "# Adapter, exercício 1.2\n",
    "\n",
    "Abaixo estão os códigos fonte de um cliente, uma interface para um somador que ele espera utilizar e uma classe concreta que implementa uma soma, mas não da maneira esperada pelo cliente. Como você pode ver abaixo, o cliente espera usar uma classe que soma inteiros em um vetor, mas a classe pronta soma inteiros em uma lista. Crie um adaptador (dica: use Adapter de objeto) para resolver esta situação."
   ]
  },
  {
   "cell_type": "markdown",
   "metadata": {},
   "source": [
    "## Solução:\n",
    "\n",
    "Primeiro transcrevemos o código fonte dado para a linguagem que estamos utilizando"
   ]
  },
  {
   "cell_type": "code",
   "execution_count": 20,
   "metadata": {},
   "outputs": [],
   "source": [
    "class Cliente:\n",
    "    somador = SomadorEsperado()\n",
    "\n",
    "    def __init__(self, somador):\n",
    "        self.somador = somador\n",
    "\n",
    "    def executar(self):\n",
    "        vetor = [1, 2, 3, 4, 5, 6, 7, 8, 9, 10]\n",
    "        soma = self.somador.somaVetor(vetor)\n",
    "        print(f\"Resultado: {soma}\")"
   ]
  },
  {
   "cell_type": "code",
   "execution_count": 21,
   "metadata": {},
   "outputs": [],
   "source": [
    "class SomadorEsperado:\n",
    "    def somaVetor(self, vetor):\n",
    "        pass"
   ]
  },
  {
   "cell_type": "markdown",
   "metadata": {},
   "source": [
    "No caso da nossa linguagem, a implementação de lista e vetor é a mesma, então teremos que improvisar uma forma de caminhar pela \"lista\" que fica claro a intenção e que possa ser replicada em uma linguagem que tenha essa diferenciação. \n",
    "\n",
    "No nosso caso, utilizamos uma espécie de `forEach` que entra na entidade lista e passa por cada posição, sem se importar com índices e seu tipo."
   ]
  },
  {
   "cell_type": "code",
   "execution_count": 22,
   "metadata": {},
   "outputs": [],
   "source": [
    "class SomadorExistente:\n",
    "    def somaLista(self, lista) -> int:\n",
    "        resultado = 0\n",
    "        for i in lista:\n",
    "            resultado += i\n",
    "        return resultado"
   ]
  },
  {
   "cell_type": "markdown",
   "metadata": {},
   "source": [
    "Agora para resolver o nosso problema, criamos uma classe `Adapter` que será responsável por receber como input a forma real do dado, que nesse caso é um \"vetor\", e terá como saída a forma que conseguimos trabalhar com o dado, que nesse caso será uma lista\n",
    "\n",
    "E para a lista, nós instanciamos uma lista, e enquanto visitamos "
   ]
  },
  {
   "cell_type": "code",
   "execution_count": 23,
   "metadata": {},
   "outputs": [],
   "source": [
    "class Adapter:\n",
    "    def __init__(self, somador):\n",
    "        self.somador = somador\n",
    "\n",
    "    def somaVetor(self, vetor):\n",
    "        lista = []\n",
    "        for i in vetor:\n",
    "            lista.append(i)\n",
    "\n",
    "        return self.somador.somaLista(lista)"
   ]
  },
  {
   "cell_type": "code",
   "execution_count": 24,
   "metadata": {},
   "outputs": [
    {
     "name": "stdout",
     "output_type": "stream",
     "text": [
      "Resultado: 55\n"
     ]
    }
   ],
   "source": [
    "Cliente(Adapter(SomadorExistente())).executar()"
   ]
  }
 ],
 "metadata": {
  "kernelspec": {
   "display_name": "Python 3",
   "language": "python",
   "name": "python3"
  },
  "language_info": {
   "codemirror_mode": {
    "name": "ipython",
    "version": 3
   },
   "file_extension": ".py",
   "mimetype": "text/x-python",
   "name": "python",
   "nbconvert_exporter": "python",
   "pygments_lexer": "ipython3",
   "version": "3.8.10"
  },
  "orig_nbformat": 4,
  "vscode": {
   "interpreter": {
    "hash": "916dbcbb3f70747c44a77c7bcd40155683ae19c65e1c03b4aa3499c5328201f1"
   }
  }
 },
 "nbformat": 4,
 "nbformat_minor": 2
}
