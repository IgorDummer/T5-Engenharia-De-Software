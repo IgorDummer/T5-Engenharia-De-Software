{
 "cells": [
  {
   "cell_type": "markdown",
   "metadata": {},
   "source": [
    "Implemente o interceptador cronômetro apresentado no slide 53.\n",
    "\n",
    "Implemente também outros dois interceptadores:\n",
    "\n",
    "1. um que imprima uma mensagem de log antes de executar a tarefa (“<data/hora>: mensagem”) \n",
    "1. um que verifique se o minuto atual é um número par e, se for, interrompe a execução com uma mensagem de justificativa (“Execução interrompida em minuto par: <hora atual>”). \n",
    "\n",
    "Coloque os interceptadores na ordem log -> verificador-de-minuto -> cronômetro -> componente-concreto."
   ]
  },
  {
   "cell_type": "markdown",
   "metadata": {},
   "source": [
    "Decorators adicionam funcionalidades a objetos de forma dinâmica, permitindo assim a expansão do objeto de maneira mais flexível.\n",
    "Permite combinar atributos a objetos sem aumentar drasticamente a quantidade de classes implementadas, que é o que o uso de Herança causaria.\n",
   ]
  },
  {
   "cell_type": "code",
   "execution_count": 52,
   "metadata": {},
   "outputs": [],
   "source": [
    "class ComponenteInterface:\n",
    "  def executarTarefa(self):\n",
    "    pass"
   ]
  },
  {
   "cell_type": "code",
   "execution_count": 53,
   "metadata": {},
   "outputs": [],
   "source": [
    "import time\n",
    "\n",
    "class ComponenteConcreto(ComponenteInterface):\n",
    "  def executarTarefa(self):\n",
    "    time.sleep(2)"
   ]
  },
  {
   "cell_type": "code",
   "execution_count": 54,
   "metadata": {},
   "outputs": [],
   "source": [
    "class Cronometro(ComponenteInterface):\n",
    "  def __init__(self, componente: ComponenteInterface) -> None:\n",
    "    self.componente = componente\n",
    "\n",
    "  def executarTarefa(self):\n",
    "    antes = time.time()\n",
    "    self.componente.executarTarefa()\n",
    "    depois = time.time()\n",
    "    print(f\"{depois - antes} ms\")"
   ]
  },
  {
   "cell_type": "code",
   "execution_count": 55,
   "metadata": {},
   "outputs": [],
   "source": [
    "from datetime import datetime\n",
    "\n",
    "class Log(ComponenteInterface):\n",
    "  def __init__(self, componente: ComponenteInterface) -> None:\n",
    "    self.componente = componente\n",
    "\n",
    "  def executarTarefa(self):\n",
    "    currentDateAndTime = datetime.now().strftime(\"%D %H:%M:%S\")\n",
    "    print(f\"{currentDateAndTime}: mensagem\")\n",
    "    self.componente.executarTarefa()"
   ]
  },
  {
   "cell_type": "code",
   "execution_count": 56,
   "metadata": {},
   "outputs": [],
   "source": [
    "class VerificadorMinutos(ComponenteInterface):\n",
    "  def __init__(self, componente: ComponenteInterface) -> None:\n",
    "    self.componente = componente\n",
    "\n",
    "  def executarTarefa(self):\n",
    "    currentDateAndTime = datetime.now()\n",
    "    if int(currentDateAndTime.minute) % 2 == 0:\n",
    "      time = currentDateAndTime.strftime('%H:%M:%S')\n",
    "      print(f\"Execução interrompida em minuto par {time}\")\n",
    "      return\n",
    "    else:\n",
    "      self.componente.executarTarefa()"
   ]
  },
  {
   "cell_type": "code",
   "execution_count": 84,
   "metadata": {},
   "outputs": [
    {
     "name": "stdout",
     "output_type": "stream",
     "text": [
      "12/15/22 14:51:00: mensagem\n",
      "2.0021090507507324 ms\n"
     ]
    }
   ],
   "source": [
    "componenteConcreto = ComponenteConcreto()\n",
    "\n",
    "cronometro = Cronometro(componenteConcreto)\n",
    "\n",
    "verificadorMinutos = VerificadorMinutos(cronometro)\n",
    "\n",
    "log =  Log(verificadorMinutos)\n",
    "\n",
    "log.executarTarefa()"
   ]
  }
 ],
 "metadata": {
  "kernelspec": {
   "display_name": "Python 3 (ipykernel)",
   "language": "python",
   "name": "python3"
  },
  "language_info": {
   "codemirror_mode": {
    "name": "ipython",
    "version": 3
   },
   "file_extension": ".py",
   "mimetype": "text/x-python",
   "name": "python",
   "nbconvert_exporter": "python",
   "pygments_lexer": "ipython3",
   "version": "3.8.10"
  },
  "orig_nbformat": 4
 },
 "nbformat": 4,
 "nbformat_minor": 2
}
