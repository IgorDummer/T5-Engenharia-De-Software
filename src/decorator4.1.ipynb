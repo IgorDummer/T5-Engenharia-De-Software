{
 "cells": [
  {
   "attachments": {},
   "cell_type": "markdown",
   "metadata": {},
   "source": [
    "# Decorator, exercício 4.1"
   ]
  },
  {
   "cell_type": "markdown",
   "metadata": {},
   "source": [
    "Implemente o interceptador cronômetro apresentado no slide 53.\n",
    "\n",
    "Implemente também outros dois interceptadores:\n",
    "\n",
    "1. um que imprima uma mensagem de log antes de executar a tarefa (“<data/hora>: mensagem”) \n",
    "1. um que verifique se o minuto atual é um número par e, se for, interrompe a execução com uma mensagem de justificativa (“Execução interrompida em minuto par: <hora atual>”). \n",
    "\n",
    "Coloque os interceptadores na ordem log -> verificador-de-minuto -> cronômetro -> componente-concreto."
   ]
  },
  {
   "cell_type": "markdown",
   "metadata": {},
   "source": [
    "Decorators adicionam funcionalidades a objetos de forma dinâmica, permitindo assim a expansão do objeto de maneira mais flexível.\n",
    "Permite combinar atributos a objetos sem aumentar drasticamente a quantidade de classes implementadas, que é o que o uso de Herança causaria."
   ]
  },
  {
   "cell_type": "markdown",
   "metadata": {},
   "source": [
    "A interface ComponenteInterface é comum tanto para os envoltórios como para os objetos envolvidos:"
   ]
  },
  {
   "cell_type": "code",
   "execution_count": 1,
   "metadata": {},
   "outputs": [],
   "source": [
    "class ComponenteInterface:\n",
    "  def executarTarefa(self):\n",
    "    pass"
   ]
  },
  {
   "cell_type": "markdown",
   "metadata": {},
   "source": [
    "O Componente Concreto é uma classe de objetos sendo envolvidos. Ela define o comportamento básico, que pode ser alterado por decoradores."
   ]
  },
  {
   "cell_type": "code",
   "execution_count": 2,
   "metadata": {},
   "outputs": [],
   "source": [
    "import time\n",
    "\n",
    "class ComponenteConcreto(ComponenteInterface):\n",
    "  def executarTarefa(self):\n",
    "    time.sleep(2)"
   ]
  },
  {
   "cell_type": "markdown",
   "metadata": {},
   "source": [
    "O Componente Concreto aqui é o cronômetro e é uma classe do objeto sendo envolvido. Ela define o comportamento básico, que pode ser alterado por decoradores."
   ]
  },
  {
   "cell_type": "code",
   "execution_count": 3,
   "metadata": {},
   "outputs": [],
   "source": [
    "class Cronometro(ComponenteInterface):\n",
    "  def __init__(self, componente: ComponenteInterface) -> None:\n",
    "    self.componente = componente\n",
    "\n",
    "  def executarTarefa(self):\n",
    "    antes = time.time()\n",
    "    self.componente.executarTarefa()\n",
    "    depois = time.time()\n",
    "    print(f\"{depois - antes} ms\")"
   ]
  },
  {
   "cell_type": "markdown",
   "metadata": {},
   "source": [
    "Os Decoradores Concretos definem os comportamentos adicionais que podem ser adicionados aos componentes dinamicamente. Os decoradores concretos sobrescrevem métodos do decorador base (no nosso caso, executarTarefa) e executam seus comportamentos tanto antes como depois de chamarem o método pai:"
   ]
  },
  {
   "cell_type": "code",
   "execution_count": 4,
   "metadata": {},
   "outputs": [],
   "source": [
    "from datetime import datetime\n",
    "\n",
    "class Log(ComponenteInterface):\n",
    "  def __init__(self, componente: ComponenteInterface) -> None:\n",
    "    self.componente = componente\n",
    "\n",
    "  def executarTarefa(self):\n",
    "    currentDateAndTime = datetime.now().strftime(\"%D %H:%M:%S\")\n",
    "    print(f\"{currentDateAndTime}: mensagem\")\n",
    "    self.componente.executarTarefa()"
   ]
  },
  {
   "cell_type": "code",
   "execution_count": 5,
   "metadata": {},
   "outputs": [],
   "source": [
    "class VerificadorMinutos(ComponenteInterface):\n",
    "  def __init__(self, componente: ComponenteInterface) -> None:\n",
    "    self.componente = componente\n",
    "\n",
    "  def executarTarefa(self):\n",
    "    currentDateAndTime = datetime.now()\n",
    "    if int(currentDateAndTime.minute) % 2 == 0:\n",
    "      time = currentDateAndTime.strftime('%H:%M:%S')\n",
    "      print(f\"Execução interrompida em minuto par {time}\")\n",
    "      return\n",
    "    else:\n",
    "      self.componente.executarTarefa()"
   ]
  },
  {
   "cell_type": "markdown",
   "metadata": {},
   "source": [
    "O Cliente pode envolver componentes em múltiplas camadas de decorators, desde que trabalhe com todos os objetos através da interface do componente."
   ]
  },
  {
   "cell_type": "code",
   "execution_count": 6,
   "metadata": {},
   "outputs": [
    {
     "name": "stdout",
     "output_type": "stream",
     "text": [
      "12/22/22 23:37:38: mensagem\n",
      "2.0021023750305176 ms\n"
     ]
    }
   ],
   "source": [
    "componenteConcreto = ComponenteConcreto()\n",
    "\n",
    "cronometro = Cronometro(componenteConcreto)\n",
    "\n",
    "verificadorMinutos = VerificadorMinutos(cronometro)\n",
    "\n",
    "log =  Log(verificadorMinutos)\n",
    "\n",
    "log.executarTarefa()"
   ]
  }
 ],
 "metadata": {
  "kernelspec": {
   "display_name": "Python 3",
   "language": "python",
   "name": "python3"
  },
  "language_info": {
   "codemirror_mode": {
    "name": "ipython",
    "version": 3
   },
   "file_extension": ".py",
   "mimetype": "text/x-python",
   "name": "python",
   "nbconvert_exporter": "python",
   "pygments_lexer": "ipython3",
   "version": "3.8.10"
  },
  "orig_nbformat": 4,
  "vscode": {
   "interpreter": {
    "hash": "916dbcbb3f70747c44a77c7bcd40155683ae19c65e1c03b4aa3499c5328201f1"
   }
  }
 },
 "nbformat": 4,
 "nbformat_minor": 2
}
