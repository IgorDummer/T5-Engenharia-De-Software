{
  "cells": [
    {
      "cell_type": "markdown",
      "id": "a35eeb9f-df70-4ab1-a243-2d2025888eb0",
      "metadata": {},
      "source": [
        "# Template Method 4.1\n",
        "\n",
        "O Template Method é um padrão de projeto comportamental que define o esqueleto de um algoritmo na superclasse mas deixa as subclasses sobrescreverem etapas específicas do algoritmo sem modificar sua estrutura."
      ]
    },
    {
      "cell_type": "markdown",
      "id": "902d1743-7377-4d24-a5b0-26c48b16bd44",
      "metadata": {},
      "source": [
        "Como pede o exercício, recebemos uma string do console no método init:"
      ]
    },
    {
      "cell_type": "markdown",
      "id": "e1b5ba72-e3b3-4914-88fe-2ca719142630",
      "metadata": {},
      "source": [
        "Agora implementa-se uma classe abstrata, ela recebe a string de entrada, que seria o esqueleto (template) para realizar as transformações na string.\n",
        "Nela é implementada um método transforma, que é o MÉTODO PADRÃO, que em cada subclasse realizará uma transformação diferente na string."
      ]
    },
    {
      "cell_type": "code",
      "execution_count": 2,
      "id": "2e0e67ce-ec76-439d-b305-75e67b910110",
      "metadata": {
        "trusted": true
      },
      "outputs": [],
      "source": [
        "from abc import ABC, abstractmethod\n",
        "\n",
        "class AbstractClass(ABC):\n",
        "\n",
        "    def template(self) -> None:\n",
        "        self.transforma()\n",
        "      \n",
        "    def __init__(self) -> None: #funcao basica\n",
        "        belafrase = input(\"Enter a string: \")\n",
        "        self.belafrase=belafrase\n",
        "      \n",
        "    @abstractmethod\n",
        "    def transforma(self) -> None:\n",
        "        pass\n",
        "    \n",
        "class MaiusculaString(AbstractClass):\n",
        "    def transforma(self) -> None:\n",
        "        self.belafrase = self.belafrase.upper()\n",
        "        print(self.belafrase)\n",
        "\n",
        "class MinusculaString(AbstractClass):\n",
        "    def transforma(self) -> None:\n",
        "        self.belafrase = self.belafrase.lower()\n",
        "        print(self.belafrase)\n",
        "\n",
        "class DuplicadaString(AbstractClass):   \n",
        "    def transforma(self) -> None:\n",
        "        self.belafrase = (self.belafrase * 2)\n",
        "        print(self.belafrase)\n",
        "\n",
        "class InvertidaString(AbstractClass):\n",
        "    def transforma(self) -> None:\n",
        "        self.belafrase = self.belafrase[::-1]\n",
        "        print(self.belafrase)\n",
        "    \n",
        "\n",
        "def cliente(abstract_class: AbstractClass) -> None:\n",
        "    abstract_class.template()"
      ]
    },
    {
      "cell_type": "markdown",
      "id": "7bdb2f3f-6bcc-4772-8c32-03cf490e971a",
      "metadata": {},
      "source": [
        "No final, é implementado o método cliente, que chama o template. No template, está declarado o método abstrato que faz uma transformação diferente na string para cada subclasse acima.\n",
        "Em seguida, chamamos o cliente usando o template para cada subclasse."
      ]
    },
    {
      "cell_type": "code",
      "execution_count": 4,
      "id": "cdf6a259-8cb1-4a7f-ba21-4d9c7c231a08",
      "metadata": {
        "trusted": true
      },
      "outputs": [
        {
          "name": "stdout",
          "output_type": "stream",
          "text": [
            "UAU\n",
            "uau\n",
            "uauuau\n",
            "atie\n"
          ]
        }
      ],
      "source": [
        "cliente(MaiusculaString())\n",
        "cliente(MinusculaString())\n",
        "cliente(DuplicadaString())\n",
        "cliente(InvertidaString())"
      ]
    }
  ],
  "metadata": {
    "kernelspec": {
      "display_name": "Python 3",
      "language": "python",
      "name": "python3"
    },
    "language_info": {
      "codemirror_mode": {
        "name": "ipython",
        "version": 3
      },
      "file_extension": ".py",
      "mimetype": "text/x-python",
      "name": "python",
      "nbconvert_exporter": "python",
      "pygments_lexer": "ipython3",
      "version": "3.8.10"
    },
    "vscode": {
      "interpreter": {
        "hash": "916dbcbb3f70747c44a77c7bcd40155683ae19c65e1c03b4aa3499c5328201f1"
      }
    }
  },
  "nbformat": 4,
  "nbformat_minor": 5
}
