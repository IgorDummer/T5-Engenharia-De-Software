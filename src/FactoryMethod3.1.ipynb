{
  "cells": [
    {
      "cell_type": "markdown",
      "id": "395e77b3-1597-47a2-8b40-2db3721cf8cd",
      "metadata": {},
      "source": [
        "# Factory Method, exercício 3.1\n",
        "\n",
        "Construa um programa que receba como parâmetro um ou mais nomes, cada um podendo estar em um dos seguintes formatos:\n",
        "\n",
        "* **\"nome sobrenome\"**;\n",
        "* **\"sobrenome, nome\"**.\n",
        "\n",
        "Escreva duas aplicações de construção de nomes, uma para cada formato. Cada uma deve ser responsável por armazenar os nomes criados e imprimi-los quando requisitado. Implemente o padrão *Factory Method* de forma que somente a criação do nome seja delegada às aplicações concretas (subclasses). Seu programa deve criar as duas aplicações e construir objetos da classe Nome, que deve ter propriedades nome e sobrenome para armazenar as informações em separado. Os nomes não precisam ser impressos em ordem.\n",
        "\n",
        "## Solução\n",
        "\n",
        "Teremos duas classes responsáveis por organizar o nome. **NomeSobrenome** é para entradas do tipo \"nome sobrenome\" e **SobrenomeNome** é para entradas do tipo \"sobrenome, nome\"."
      ]
    },
    {
      "cell_type": "code",
      "execution_count": 1,
      "id": "917bf2a4-e67c-46c8-bd30-7f11f07384af",
      "metadata": {
        "trusted": true
      },
      "outputs": [],
      "source": [
        "class NomeSobrenome:\n",
        "    def exibeNome(nome):\n",
        "        print(nome)\n",
        "\n",
        "\n",
        "class SobrenomeNome:\n",
        "    def exibeNome(nome):\n",
        "        for i in range(len(nome)):\n",
        "            if nome[i] == \",\":\n",
        "              separacao = i\n",
        "        i = separacao\n",
        "        name = nome[i+2:]\n",
        "        lastname = nome[0:i]\n",
        "        print(name, lastname)"
      ]
    },
    {
      "cell_type": "markdown",
      "id": "b984157a-ffd5-4f61-a4cd-203bc524daa9",
      "metadata": {},
      "source": [
        "Através da classe Factory que iremos criar os objetos sem expor a lógica de criação de cada um para o cliente. Assim o cliente irá utilizar uma mesma interface para a criação de um novo tipo de objeto."
      ]
    },
    {
      "cell_type": "code",
      "execution_count": 2,
      "id": "c1a9963a-a172-41a0-a1bf-23fe31aa54fd",
      "metadata": {
        "trusted": true
      },
      "outputs": [],
      "source": [
        "def Factory(tipo):\n",
        "    localizers = {\n",
        "        \"A\": NomeSobrenome,\n",
        "        \"B\": SobrenomeNome\n",
        "    }\n",
        "    return localizers[tipo]"
      ]
    },
    {
      "cell_type": "markdown",
      "id": "3009599b-6bce-4e11-ae65-55a9fd5cd5bc",
      "metadata": {},
      "source": [
        "Função que analisa a entrada e define qual das classes irá manipular a entrada. Caso a entrada contenha uma vírgula, entende-se que o sobrenome vem primeiro e será manipulado pela classe **SobrenomeNome** e caso a entrada não contenha vírgula, entende-se que o nome vem primeiro e será manipulado pela classe **NomeSobrenome**."
      ]
    },
    {
      "cell_type": "code",
      "execution_count": 3,
      "id": "8776f322-ae53-497c-9b36-c7035bb4fe23",
      "metadata": {
        "trusted": true
      },
      "outputs": [],
      "source": [
        "def tipo(nome):\n",
        "    aux = 0\n",
        "    for i in range(len(nome)):\n",
        "        if nome[i] == \",\":\n",
        "            aux = 1\n",
        "    if aux == 1:  \n",
        "        return \"B\"\n",
        "    else:\n",
        "        return \"A\""
      ]
    },
    {
      "cell_type": "markdown",
      "id": "1baef043-b8da-4058-9be0-bdcbdc181fcc",
      "metadata": {},
      "source": [
        "Aqui temos o vetor de entrada e um loop para tratar todos os nomes sem que tenha definir quantos são. A chamada é feita analisando o tipo de entrada e usando Factory para chamar a classe referente ao tipo corretamente."
      ]
    },
    {
      "cell_type": "code",
      "execution_count": 4,
      "id": "ec68c808-c2fc-493e-8cf3-4b9520d17615",
      "metadata": {
        "trusted": true
      },
      "outputs": [
        {
          "name": "stdout",
          "output_type": "stream",
          "text": [
            "Nate Macauly\n",
            "Percy Jackson\n",
            "Ronan Lynch\n",
            "Liv Jaeger\n",
            "Clay Colins\n"
          ]
        }
      ],
      "source": [
        "if __name__ == \"__main__\":   \n",
        "    nomes = [\"Nate Macauly\", \"Jackson, Percy\", \"Lynch, Ronan\", \"Liv Jaeger\", \"Colins, Clay\"]\n",
        "    for i in nomes:\n",
        "      Factory(tipo(i)).exibeNome(i)"
      ]
    }
  ],
  "metadata": {
    "kernelspec": {
      "display_name": "Python 3",
      "language": "python",
      "name": "python3"
    },
    "language_info": {
      "codemirror_mode": {
        "name": "ipython",
        "version": 3
      },
      "file_extension": ".py",
      "mimetype": "text/x-python",
      "name": "python",
      "nbconvert_exporter": "python",
      "pygments_lexer": "ipython3",
      "version": "3.8.10"
    },
    "vscode": {
      "interpreter": {
        "hash": "916dbcbb3f70747c44a77c7bcd40155683ae19c65e1c03b4aa3499c5328201f1"
      }
    }
  },
  "nbformat": 4,
  "nbformat_minor": 5
}
