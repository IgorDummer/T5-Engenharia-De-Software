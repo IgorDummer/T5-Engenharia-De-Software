{
 "cells": [
  {
   "cell_type": "markdown",
   "metadata": {},
   "source": [
    "# Abstract Facotry, exercício 1.1"
   ]
  },
  {
   "cell_type": "markdown",
   "metadata": {},
   "source": [
    "Crie um “Hello, World” que utilize o padrão Abstract Factory para escolher dentre duas formas de impressão:\n",
    "(a) na tela ou (b) num arquivo chamado output.txt. Seu programa deve escolher dentre as duas fábricas\n",
    "aleatoriamente."
   ]
  },
  {
   "cell_type": "markdown",
   "metadata": {},
   "source": [
    "## Solução:"
   ]
  },
  {
   "cell_type": "markdown",
   "metadata": {},
   "source": [
    "Iremos importar random para randomizar a escolha de impressão do Hello, World"
   ]
  },
  {
   "cell_type": "code",
   "execution_count": 1,
   "metadata": {},
   "outputs": [],
   "source": [
    "import random"
   ]
  },
  {
   "cell_type": "markdown",
   "metadata": {},
   "source": [
    "Temos duas classes, a helloWorldPromt e a helloWorldTxt, para fazer impressões no terminal ou no arquivo output.txt respectivamente"
   ]
  },
  {
   "cell_type": "code",
   "execution_count": 2,
   "metadata": {},
   "outputs": [],
   "source": [
    "class helloWorldPrompt:\n",
    "\n",
    "    \"\"\"Classe para imprimir no terminal\"\"\"\n",
    "\n",
    "    def printHelloWorld(self):\n",
    "        return print(\"Hello, World!\")\n",
    "\n",
    "\n",
    "class helloWorldTxt:\n",
    "\n",
    "    \"\"\"Classe para imprimir no arquivo output.txt\"\"\"\n",
    "\n",
    "    def printHelloWorld(self):\n",
    "        with open('output.txt', 'w') as f:\n",
    "            f.write(\"Hello, World!\")"
   ]
  },
  {
   "cell_type": "markdown",
   "metadata": {},
   "source": [
    "Também teremos uma classe chamada HelloWorld que será nossa Abstract Factory, que lida com todas as instanciações de objetos."
   ]
  },
  {
   "cell_type": "code",
   "execution_count": 3,
   "metadata": {},
   "outputs": [],
   "source": [
    "class HelloWorld:\n",
    "\n",
    "    def __init__(self, print_factory=None):\n",
    "\n",
    "        self.print_factory = print_factory\n",
    "\n",
    "    def show_print(self):\n",
    "        \"\"\"Cria e printa o HelloWorld usando abstract factory\"\"\"\n",
    "\n",
    "        helloWorld = self.print_factory()\n",
    "        helloWorld.printHelloWorld()\n"
   ]
  },
  {
   "cell_type": "markdown",
   "metadata": {},
   "source": [
    "A função abaixo é utilizada para randomizar a escolha entre imprimir no prompt ou no arquivo output.txt"
   ]
  },
  {
   "cell_type": "code",
   "execution_count": 4,
   "metadata": {},
   "outputs": [],
   "source": [
    "def randomHelloWorld():\n",
    "    \"\"\"Randomiza a escolha\"\"\"\n",
    "\n",
    "    return random.choice([helloWorldPrompt, helloWorldTxt])()"
   ]
  },
  {
   "cell_type": "markdown",
   "metadata": {},
   "source": [
    "Observe que os objetos de helloWorld não estão sendo construidos com uma chamada direta à classe, mas sim através da Abstract Factory criada. Assim não será necessário refatorar o código, por exemplo, caso queira adicionar outra forma de impressão do \"Hello, World\"."
   ]
  },
  {
   "cell_type": "code",
   "execution_count": 5,
   "metadata": {},
   "outputs": [],
   "source": [
    "if __name__ == \"__main__\":\n",
    "\n",
    "    helloWorld = HelloWorld(randomHelloWorld)\n",
    "    helloWorld.show_print()"
   ]
  }
 ],
 "metadata": {
  "kernelspec": {
   "display_name": "Python 3",
   "language": "python",
   "name": "python3"
  },
  "language_info": {
   "codemirror_mode": {
    "name": "ipython",
    "version": 3
   },
   "file_extension": ".py",
   "mimetype": "text/x-python",
   "name": "python",
   "nbconvert_exporter": "python",
   "pygments_lexer": "ipython3",
   "version": "3.7.3"
  }
 },
 "nbformat": 4,
 "nbformat_minor": 2
}
