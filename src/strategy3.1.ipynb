{
 "cells": [
  {
   "cell_type": "markdown",
   "id": "e280b5b7",
   "metadata": {},
   "source": [
    "# Strategy, exercício 3.1"
   ]
  },
  {
   "cell_type": "markdown",
   "id": "5cb6cf64",
   "metadata": {},
   "source": [
    "Escreva um programa que exiba uma mensagem diferente para cada dia da semana usando o padrão\n",
    "Strategy."
   ]
  },
  {
   "cell_type": "markdown",
   "id": "5da03dc5",
   "metadata": {},
   "source": [
    "## Solução"
   ]
  },
  {
   "cell_type": "markdown",
   "id": "b657b7fb",
   "metadata": {},
   "source": [
    "Para esse programa iremos utilizar método abstrato e a função random para escolher o dia da semana aleatoriamente."
   ]
  },
  {
   "cell_type": "code",
   "execution_count": 1,
   "id": "7cd556d8",
   "metadata": {},
   "outputs": [],
   "source": [
    "from abc import ABC, abstractmethod\n",
    "import random"
   ]
  },
  {
   "cell_type": "markdown",
   "id": "ba8b55d0",
   "metadata": {},
   "source": [
    "Primeiro definimos a interface Strategy, que é comum a todas as strategys concretas. A interface Strategy possui um método abstrato que você pode alterar através das strategys concretas."
   ]
  },
  {
   "cell_type": "code",
   "execution_count": 2,
   "id": "b0915fe2",
   "metadata": {},
   "outputs": [],
   "source": [
    "class Strategy(ABC):\n",
    "    @abstractmethod\n",
    "    def execute(self) -> str:\n",
    "        pass"
   ]
  },
  {
   "cell_type": "markdown",
   "id": "c36c93c0",
   "metadata": {},
   "source": [
    "O Context é a classe primária da nossa aplicação. Primeiro, definimos o campo strategy para armazenar uma referência a um objeto de Strategy, e dois métodos: setStrategy e executeStrategy. O setStrategy define a estratégia selecionada se um usuário selecionar uma opção, ou então o Default caso contrário."
   ]
  },
  {
   "cell_type": "code",
   "execution_count": 3,
   "id": "7c228476",
   "metadata": {},
   "outputs": [],
   "source": [
    "class Context:\n",
    "    strategy: Strategy  # interface strategy\n",
    "\n",
    "    def setStrategy(self, strategy: Strategy = None) -> None:\n",
    "        if strategy is not None:\n",
    "            self.strategy = strategy\n",
    "        else:\n",
    "            self.strategy = Default()\n",
    "\n",
    "    def executeStrategy(self) -> str:\n",
    "        print(f'Hoje é {self.strategy.execute()}.')"
   ]
  },
  {
   "cell_type": "markdown",
   "id": "8b91311b",
   "metadata": {},
   "source": [
    "Definimos as strategys concretas que implementam a interface Strategy, elas sobreescrevem o método execute() da interface."
   ]
  },
  {
   "cell_type": "code",
   "execution_count": 4,
   "id": "c3be3ef4",
   "metadata": {},
   "outputs": [],
   "source": [
    "class StrategyDomingo(Strategy):\n",
    "    def execute(self) -> str:\n",
    "        return \"Domingo\"\n",
    "\n",
    "\n",
    "class StrategySegunda(Strategy):\n",
    "    def execute(self) -> str:\n",
    "        return \"Segunda\"\n",
    "\n",
    "\n",
    "class StrategyTerca(Strategy):\n",
    "    def execute(self) -> str:\n",
    "        return \"Terça\"\n",
    "\n",
    "\n",
    "class StrategyQuarta(Strategy):\n",
    "    def execute(self) -> str:\n",
    "        return \"Quarta\"\n",
    "\n",
    "\n",
    "class StrategyQuinta(Strategy):\n",
    "    def execute(self) -> str:\n",
    "        return \"Quinta\"\n",
    "\n",
    "\n",
    "class StrategySexta(Strategy):\n",
    "    def execute(self) -> str:\n",
    "        return \"Sexta\"\n",
    "\n",
    "\n",
    "class StrategySabado(Strategy):\n",
    "    def execute(self) -> str:\n",
    "        return \"Sábado\"\n",
    "\n",
    "\n",
    "class Default(Strategy):\n",
    "    def execute(self) -> str:\n",
    "        return \"um dia\""
   ]
  },
  {
   "cell_type": "markdown",
   "id": "5d2e43c1",
   "metadata": {},
   "source": [
    "Método para escolher aleatóriamente o dia da semana e chamar a strategy concreta respectiva daquele dia."
   ]
  },
  {
   "cell_type": "code",
   "execution_count": 5,
   "id": "059118de",
   "metadata": {},
   "outputs": [],
   "source": [
    "def diaAleatorio():\n",
    "    dias = ['domingo', 'segunda', 'terça',\n",
    "            'quarta', 'quinta', 'sexta', 'sabado']\n",
    "    aleatorio = random.choice(dias)\n",
    "    types = {\n",
    "        \"domingo\": StrategyDomingo(),\n",
    "        \"segunda\": StrategySegunda(),\n",
    "        \"terça\": StrategyTerca(),\n",
    "        \"quarta\": StrategyQuarta(),\n",
    "        \"quinta\": StrategyQuinta(),\n",
    "        \"sexta\": StrategySexta(),\n",
    "        \"sabado\": StrategySabado()\n",
    "    }\n",
    "    return types[aleatorio]"
   ]
  },
  {
   "cell_type": "markdown",
   "id": "9d82eb96",
   "metadata": {},
   "source": [
    "A main cria um contexto e seta a strategy como dia da semana gerado aleatoriamente. Depois ao chamar o executeStrategy é impresso a frase de acordo com o dia da semana escolhido."
   ]
  },
  {
   "cell_type": "code",
   "execution_count": 6,
   "id": "0c563dde",
   "metadata": {},
   "outputs": [
    {
     "name": "stdout",
     "output_type": "stream",
     "text": [
      "Hoje é Terça.\n"
     ]
    }
   ],
   "source": [
    "# Exemplo de Aplicação\n",
    "app = Context()\n",
    "app.setStrategy(diaAleatorio())\n",
    "app.executeStrategy()"
   ]
  }
 ],
 "metadata": {
  "kernelspec": {
   "display_name": "Python 3 (ipykernel)",
   "language": "python",
   "name": "python3"
  },
  "language_info": {
   "codemirror_mode": {
    "name": "ipython",
    "version": 3
   },
   "file_extension": ".py",
   "mimetype": "text/x-python",
   "name": "python",
   "nbconvert_exporter": "python",
   "pygments_lexer": "ipython3",
   "version": "3.8.10"
  }
 },
 "nbformat": 4,
 "nbformat_minor": 5
}
