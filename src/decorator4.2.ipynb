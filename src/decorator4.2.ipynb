{
 "cells": [
  {
   "cell_type": "markdown",
   "metadata": {},
   "source": [
    "# Decorator, exercício 4.2"
   ]
  },
  {
   "cell_type": "markdown",
   "metadata": {},
   "source": [
    "Crie uma classe NumeroUm que tem um método imprimir() que imprime o número “1” na tela. Implemente\n",
    "decoradores para colocar parênteses, colchetes e chaves ao redor do número (ex.: “{1}”). Combine-os de\n",
    "diversas formas."
   ]
  },
  {
   "cell_type": "markdown",
   "metadata": {},
   "source": [
    "## Solução:"
   ]
  },
  {
   "cell_type": "markdown",
   "metadata": {},
   "source": [
    "A classe NumeroUm trata dos acoplamentos de novos comportamentos para o objeto \"1\", colocando-o dentro de invólucros de objetos que contém os comportamentos desejados. Mais especificamente esses objetos são os parênteses, colchetes e as chaves em volta do número 1."
   ]
  },
  {
   "cell_type": "code",
   "execution_count": 1,
   "metadata": {},
   "outputs": [],
   "source": [
    "class NumeroUm:\n",
    "    def parenteses(func):\n",
    "        def wrapper(self):\n",
    "            print(\"(\", end=\"\")\n",
    "            func(self)\n",
    "            print(\")\", end=\"\")\n",
    "        return wrapper\n",
    "\n",
    "    def chaves(func):\n",
    "        def wrapper(self):\n",
    "            print(\"{\", end=\"\")\n",
    "            func(self)\n",
    "            print(\"}\", end=\"\")\n",
    "        return wrapper\n",
    "\n",
    "    def colchete(func):\n",
    "        def wrapper(self):\n",
    "            print(\"[\", end=\"\")\n",
    "            func(self)\n",
    "            print(\"]\", end=\"\")\n",
    "        return wrapper\n",
    "\n",
    "    @parenteses\n",
    "    @chaves\n",
    "    @colchete\n",
    "    @colchete\n",
    "    @chaves\n",
    "    @parenteses\n",
    "    @chaves\n",
    "    @colchete\n",
    "    @parenteses\n",
    "    @colchete\n",
    "    @chaves\n",
    "    def imprimir(self):\n",
    "        print('1', end=\"\")"
   ]
  },
  {
   "cell_type": "markdown",
   "metadata": {},
   "source": [
    "A main simplesmente cria um objeto NumeroUm, e o resultado é impresso pela função imprimir() de acordo com os involucros que foram chamados dentro da classe."
   ]
  },
  {
   "cell_type": "code",
   "execution_count": 2,
   "metadata": {},
   "outputs": [
    {
     "name": "stdout",
     "output_type": "stream",
     "text": [
      "({[[{({[([{1}])]})}]]})"
     ]
    }
   ],
   "source": [
    "if __name__ == \"__main__\":\n",
    "    teste = NumeroUm()\n",
    "    teste.imprimir()"
   ]
  }
 ],
 "metadata": {
  "kernelspec": {
   "display_name": "Python 3",
   "language": "python",
   "name": "python3"
  },
  "language_info": {
   "codemirror_mode": {
    "name": "ipython",
    "version": 3
   },
   "file_extension": ".py",
   "mimetype": "text/x-python",
   "name": "python",
   "nbconvert_exporter": "python",
   "pygments_lexer": "ipython3",
   "version": "3.8.10"
  },
  "vscode": {
   "interpreter": {
    "hash": "916dbcbb3f70747c44a77c7bcd40155683ae19c65e1c03b4aa3499c5328201f1"
   }
  }
 },
 "nbformat": 4,
 "nbformat_minor": 2
}
