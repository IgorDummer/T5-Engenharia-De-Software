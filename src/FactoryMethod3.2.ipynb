{
  "cells": [
    {
      "cell_type": "markdown",
      "metadata": {},
      "source": [
        "# Factory Method, exercício 3.2\n",
        "\n",
        "Crie dois arquivos texto em um diretório qualquer:\n",
        "\n",
        "* publico.txt\n",
        "> Estas são informações públicas sobre qualquer coisa. Todo mundo pode ver este arquivo.\n",
        "\n",
        "* confidencial.txt\n",
        "> Estas são informações confidenciais, o que significa que você provavelmente sabe a palavra secreta!\n",
        "\n",
        "Usando o padrão *Factory Method*, crie duas provedoras de informação: uma que retorna informações públicas e outra retorna informações confidenciais. Utilize o provedor confidencial se o usuário informar a senha **designpatterns** como parâmetro para o programa, que deve recuperar a informação e exibi-la na tela."
      ]
    },
    {
      "attachments": {},
      "cell_type": "markdown",
      "metadata": {},
      "source": [
        "## Solução\n",
        "\n",
        "Teremos duas classes responsáveis por exibir as informações contidas nos arquivos .txt, sendo uma delas para o arquivo **público** e outra para o arquivo **confidencial**."
      ]
    },
    {
      "cell_type": "code",
      "execution_count": 10,
      "metadata": {},
      "outputs": [],
      "source": [
        "class Public:\n",
        "    def exibeInfos():\n",
        "        with open(\"../assets/publico.txt\", \"r\") as arquivo:\n",
        "            text = arquivo.read()\n",
        "        print(text)\n",
        "\n",
        "\n",
        "class Confidential:\n",
        "    def exibeInfos():\n",
        "        with open(\"../assets/confidencial.txt\", \"r\") as arquivo:\n",
        "            text = arquivo.read()\n",
        "        print(text)"
      ]
    },
    {
      "cell_type": "markdown",
      "metadata": {},
      "source": [
        "Através da classe Factory que iremos criar os objetos sem expor a lógica de criação de cada um para o cliente. Assim o cliente irá utilizar uma mesma interface para a criação de um novo tipo de objeto."
      ]
    },
    {
      "cell_type": "code",
      "execution_count": 11,
      "metadata": {},
      "outputs": [],
      "source": [
        "def Factory(senha):\n",
        "    types = {\n",
        "        \"public\": Public,\n",
        "        \"confidential\": Confidential\n",
        "    }\n",
        "    return types[senha]"
      ]
    },
    {
      "cell_type": "markdown",
      "metadata": {},
      "source": [
        "Função que analisa a entrada e define qual das classes irá manipular a entrada. Caso a entrada contenha a senha correta irá retornar o arquivo confidencial e caso a entrada não contenha senha, será aberto o arquivo público."
      ]
    },
    {
      "cell_type": "code",
      "execution_count": 12,
      "metadata": {},
      "outputs": [],
      "source": [
        "def defineSeguranca(senha):\n",
        "    if senha == \"designpatterns\":\n",
        "        return 'confidential'\n",
        "    else: \n",
        "        return 'public'"
      ]
    },
    {
      "cell_type": "markdown",
      "metadata": {},
      "source": [
        "Aqui temos a senha passada como parâmetro para a função que define o tipo de segurança (pública ou confidencial) que será manipulada por Factory e exibirá as informações contidas no arquivo .txt referente."
      ]
    },
    {
      "cell_type": "code",
      "execution_count": 13,
      "metadata": {},
      "outputs": [
        {
          "name": "stdout",
          "output_type": "stream",
          "text": [
            "Estas são informações confidenciais, o que significa que você provavelmente sabe a palavra secreta!\n",
            "\n"
          ]
        }
      ],
      "source": [
        "if __name__ == \"__main__\":\n",
        "    senha = \"designpatterns\"\n",
        "    Factory(defineSeguranca(senha)).exibeInfos()"
      ]
    }
  ],
  "metadata": {
    "kernelspec": {
      "display_name": "Python 3",
      "language": "python",
      "name": "python3"
    },
    "language_info": {
      "codemirror_mode": {
        "name": "ipython",
        "version": 3
      },
      "file_extension": ".py",
      "mimetype": "text/x-python",
      "name": "python",
      "nbconvert_exporter": "python",
      "pygments_lexer": "ipython3",
      "version": "3.8.10"
    },
    "vscode": {
      "interpreter": {
        "hash": "916dbcbb3f70747c44a77c7bcd40155683ae19c65e1c03b4aa3499c5328201f1"
      }
    }
  },
  "nbformat": 4,
  "nbformat_minor": 4
}
